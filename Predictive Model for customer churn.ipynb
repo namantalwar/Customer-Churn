{
 "cells": [
  {
   "cell_type": "markdown",
   "id": "d8b02e66",
   "metadata": {},
   "source": [
    "<h1 align = 'center'>Predictive Modeling for Customer Churn</h1>\n",
    "<br>\n",
    "<h3 align = 'center'>Author - Naman Talwar</h3>\n",
    "<br>"
   ]
  },
  {
   "cell_type": "markdown",
   "id": "6e535f59",
   "metadata": {},
   "source": [
    "<h4>Importing Modules"
   ]
  },
  {
   "cell_type": "code",
   "execution_count": 1,
   "id": "6a0f5433",
   "metadata": {},
   "outputs": [],
   "source": [
    "import pandas as pd\n",
    "import numpy as np\n",
    "import matplotlib.pyplot as plt\n",
    "import seaborn as sns\n",
    "import warnings\n",
    "warnings.filterwarnings('ignore')"
   ]
  },
  {
   "cell_type": "markdown",
   "id": "444db6f0",
   "metadata": {},
   "source": [
    "<h5>Loading Data"
   ]
  },
  {
   "cell_type": "code",
   "execution_count": 2,
   "id": "60da5c58",
   "metadata": {},
   "outputs": [
    {
     "data": {
      "text/html": [
       "<div>\n",
       "<style scoped>\n",
       "    .dataframe tbody tr th:only-of-type {\n",
       "        vertical-align: middle;\n",
       "    }\n",
       "\n",
       "    .dataframe tbody tr th {\n",
       "        vertical-align: top;\n",
       "    }\n",
       "\n",
       "    .dataframe thead th {\n",
       "        text-align: right;\n",
       "    }\n",
       "</style>\n",
       "<table border=\"1\" class=\"dataframe\">\n",
       "  <thead>\n",
       "    <tr style=\"text-align: right;\">\n",
       "      <th></th>\n",
       "      <th>age;\"job\";\"marital\";\"education\";\"default\";\"balance\";\"housing\";\"loan\";\"contact\";\"day\";\"month\";\"duration\";\"campaign\";\"pdays\";\"previous\";\"poutcome\";\"y\"</th>\n",
       "    </tr>\n",
       "  </thead>\n",
       "  <tbody>\n",
       "    <tr>\n",
       "      <th>0</th>\n",
       "      <td>30;\"unemployed\";\"married\";\"primary\";\"no\";1787;...</td>\n",
       "    </tr>\n",
       "    <tr>\n",
       "      <th>1</th>\n",
       "      <td>33;\"services\";\"married\";\"secondary\";\"no\";4789;...</td>\n",
       "    </tr>\n",
       "    <tr>\n",
       "      <th>2</th>\n",
       "      <td>35;\"management\";\"single\";\"tertiary\";\"no\";1350;...</td>\n",
       "    </tr>\n",
       "    <tr>\n",
       "      <th>3</th>\n",
       "      <td>30;\"management\";\"married\";\"tertiary\";\"no\";1476...</td>\n",
       "    </tr>\n",
       "    <tr>\n",
       "      <th>4</th>\n",
       "      <td>59;\"blue-collar\";\"married\";\"secondary\";\"no\";0;...</td>\n",
       "    </tr>\n",
       "  </tbody>\n",
       "</table>\n",
       "</div>"
      ],
      "text/plain": [
       "  age;\"job\";\"marital\";\"education\";\"default\";\"balance\";\"housing\";\"loan\";\"contact\";\"day\";\"month\";\"duration\";\"campaign\";\"pdays\";\"previous\";\"poutcome\";\"y\"\n",
       "0  30;\"unemployed\";\"married\";\"primary\";\"no\";1787;...                                                                                                  \n",
       "1  33;\"services\";\"married\";\"secondary\";\"no\";4789;...                                                                                                  \n",
       "2  35;\"management\";\"single\";\"tertiary\";\"no\";1350;...                                                                                                  \n",
       "3  30;\"management\";\"married\";\"tertiary\";\"no\";1476...                                                                                                  \n",
       "4  59;\"blue-collar\";\"married\";\"secondary\";\"no\";0;...                                                                                                  "
      ]
     },
     "execution_count": 2,
     "metadata": {},
     "output_type": "execute_result"
    }
   ],
   "source": [
    "data = pd.read_csv(\"bank.csv\")\n",
    "data.head()"
   ]
  },
  {
   "cell_type": "markdown",
   "id": "7cabdb9f",
   "metadata": {},
   "source": [
    "Cleaning and separating the data into columns"
   ]
  },
  {
   "cell_type": "code",
   "execution_count": 3,
   "id": "10f960b7",
   "metadata": {},
   "outputs": [
    {
     "data": {
      "text/html": [
       "<div>\n",
       "<style scoped>\n",
       "    .dataframe tbody tr th:only-of-type {\n",
       "        vertical-align: middle;\n",
       "    }\n",
       "\n",
       "    .dataframe tbody tr th {\n",
       "        vertical-align: top;\n",
       "    }\n",
       "\n",
       "    .dataframe thead th {\n",
       "        text-align: right;\n",
       "    }\n",
       "</style>\n",
       "<table border=\"1\" class=\"dataframe\">\n",
       "  <thead>\n",
       "    <tr style=\"text-align: right;\">\n",
       "      <th></th>\n",
       "      <th>age</th>\n",
       "      <th>job</th>\n",
       "      <th>marital</th>\n",
       "      <th>education</th>\n",
       "      <th>default</th>\n",
       "      <th>balance</th>\n",
       "      <th>housing</th>\n",
       "      <th>loan</th>\n",
       "      <th>contact</th>\n",
       "      <th>day</th>\n",
       "      <th>month</th>\n",
       "      <th>duration</th>\n",
       "      <th>campaign</th>\n",
       "      <th>pdays</th>\n",
       "      <th>previous</th>\n",
       "      <th>poutcome</th>\n",
       "      <th>y</th>\n",
       "    </tr>\n",
       "  </thead>\n",
       "  <tbody>\n",
       "    <tr>\n",
       "      <th>0</th>\n",
       "      <td>30</td>\n",
       "      <td>unemployed</td>\n",
       "      <td>married</td>\n",
       "      <td>primary</td>\n",
       "      <td>no</td>\n",
       "      <td>1787</td>\n",
       "      <td>no</td>\n",
       "      <td>no</td>\n",
       "      <td>cellular</td>\n",
       "      <td>19</td>\n",
       "      <td>oct</td>\n",
       "      <td>79</td>\n",
       "      <td>1</td>\n",
       "      <td>-1</td>\n",
       "      <td>0</td>\n",
       "      <td>unknown</td>\n",
       "      <td>no</td>\n",
       "    </tr>\n",
       "    <tr>\n",
       "      <th>1</th>\n",
       "      <td>33</td>\n",
       "      <td>services</td>\n",
       "      <td>married</td>\n",
       "      <td>secondary</td>\n",
       "      <td>no</td>\n",
       "      <td>4789</td>\n",
       "      <td>yes</td>\n",
       "      <td>yes</td>\n",
       "      <td>cellular</td>\n",
       "      <td>11</td>\n",
       "      <td>may</td>\n",
       "      <td>220</td>\n",
       "      <td>1</td>\n",
       "      <td>339</td>\n",
       "      <td>4</td>\n",
       "      <td>failure</td>\n",
       "      <td>no</td>\n",
       "    </tr>\n",
       "    <tr>\n",
       "      <th>2</th>\n",
       "      <td>35</td>\n",
       "      <td>management</td>\n",
       "      <td>single</td>\n",
       "      <td>tertiary</td>\n",
       "      <td>no</td>\n",
       "      <td>1350</td>\n",
       "      <td>yes</td>\n",
       "      <td>no</td>\n",
       "      <td>cellular</td>\n",
       "      <td>16</td>\n",
       "      <td>apr</td>\n",
       "      <td>185</td>\n",
       "      <td>1</td>\n",
       "      <td>330</td>\n",
       "      <td>1</td>\n",
       "      <td>failure</td>\n",
       "      <td>no</td>\n",
       "    </tr>\n",
       "    <tr>\n",
       "      <th>3</th>\n",
       "      <td>30</td>\n",
       "      <td>management</td>\n",
       "      <td>married</td>\n",
       "      <td>tertiary</td>\n",
       "      <td>no</td>\n",
       "      <td>1476</td>\n",
       "      <td>yes</td>\n",
       "      <td>yes</td>\n",
       "      <td>unknown</td>\n",
       "      <td>3</td>\n",
       "      <td>jun</td>\n",
       "      <td>199</td>\n",
       "      <td>4</td>\n",
       "      <td>-1</td>\n",
       "      <td>0</td>\n",
       "      <td>unknown</td>\n",
       "      <td>no</td>\n",
       "    </tr>\n",
       "    <tr>\n",
       "      <th>4</th>\n",
       "      <td>59</td>\n",
       "      <td>blue-collar</td>\n",
       "      <td>married</td>\n",
       "      <td>secondary</td>\n",
       "      <td>no</td>\n",
       "      <td>0</td>\n",
       "      <td>yes</td>\n",
       "      <td>no</td>\n",
       "      <td>unknown</td>\n",
       "      <td>5</td>\n",
       "      <td>may</td>\n",
       "      <td>226</td>\n",
       "      <td>1</td>\n",
       "      <td>-1</td>\n",
       "      <td>0</td>\n",
       "      <td>unknown</td>\n",
       "      <td>no</td>\n",
       "    </tr>\n",
       "  </tbody>\n",
       "</table>\n",
       "</div>"
      ],
      "text/plain": [
       "   age          job  marital  education default  balance housing loan  \\\n",
       "0   30   unemployed  married    primary      no     1787      no   no   \n",
       "1   33     services  married  secondary      no     4789     yes  yes   \n",
       "2   35   management   single   tertiary      no     1350     yes   no   \n",
       "3   30   management  married   tertiary      no     1476     yes  yes   \n",
       "4   59  blue-collar  married  secondary      no        0     yes   no   \n",
       "\n",
       "    contact  day month  duration  campaign  pdays  previous poutcome   y  \n",
       "0  cellular   19   oct        79         1     -1         0  unknown  no  \n",
       "1  cellular   11   may       220         1    339         4  failure  no  \n",
       "2  cellular   16   apr       185         1    330         1  failure  no  \n",
       "3   unknown    3   jun       199         4     -1         0  unknown  no  \n",
       "4   unknown    5   may       226         1     -1         0  unknown  no  "
      ]
     },
     "execution_count": 3,
     "metadata": {},
     "output_type": "execute_result"
    }
   ],
   "source": [
    "data = pd.read_csv(\"bank.csv\", encoding='utf-8', delimiter=\";\")\n",
    "data.head()"
   ]
  },
  {
   "cell_type": "code",
   "execution_count": 4,
   "id": "9afd30db",
   "metadata": {},
   "outputs": [
    {
     "data": {
      "text/plain": [
       "(4521, 17)"
      ]
     },
     "execution_count": 4,
     "metadata": {},
     "output_type": "execute_result"
    }
   ],
   "source": [
    "data.shape"
   ]
  },
  {
   "cell_type": "code",
   "execution_count": 5,
   "id": "39169bf8",
   "metadata": {},
   "outputs": [
    {
     "name": "stdout",
     "output_type": "stream",
     "text": [
      "<class 'pandas.core.frame.DataFrame'>\n",
      "RangeIndex: 4521 entries, 0 to 4520\n",
      "Data columns (total 17 columns):\n",
      " #   Column     Non-Null Count  Dtype \n",
      "---  ------     --------------  ----- \n",
      " 0   age        4521 non-null   int64 \n",
      " 1   job        4521 non-null   object\n",
      " 2   marital    4521 non-null   object\n",
      " 3   education  4521 non-null   object\n",
      " 4   default    4521 non-null   object\n",
      " 5   balance    4521 non-null   int64 \n",
      " 6   housing    4521 non-null   object\n",
      " 7   loan       4521 non-null   object\n",
      " 8   contact    4521 non-null   object\n",
      " 9   day        4521 non-null   int64 \n",
      " 10  month      4521 non-null   object\n",
      " 11  duration   4521 non-null   int64 \n",
      " 12  campaign   4521 non-null   int64 \n",
      " 13  pdays      4521 non-null   int64 \n",
      " 14  previous   4521 non-null   int64 \n",
      " 15  poutcome   4521 non-null   object\n",
      " 16  y          4521 non-null   object\n",
      "dtypes: int64(7), object(10)\n",
      "memory usage: 600.6+ KB\n"
     ]
    }
   ],
   "source": [
    "data.info()"
   ]
  },
  {
   "cell_type": "code",
   "execution_count": 6,
   "id": "1111da80",
   "metadata": {},
   "outputs": [
    {
     "data": {
      "text/plain": [
       "age          0\n",
       "job          0\n",
       "marital      0\n",
       "education    0\n",
       "default      0\n",
       "balance      0\n",
       "housing      0\n",
       "loan         0\n",
       "contact      0\n",
       "day          0\n",
       "month        0\n",
       "duration     0\n",
       "campaign     0\n",
       "pdays        0\n",
       "previous     0\n",
       "poutcome     0\n",
       "y            0\n",
       "dtype: int64"
      ]
     },
     "execution_count": 6,
     "metadata": {},
     "output_type": "execute_result"
    }
   ],
   "source": [
    "data.isnull().sum()"
   ]
  },
  {
   "cell_type": "code",
   "execution_count": 7,
   "id": "87c11354",
   "metadata": {},
   "outputs": [
    {
     "data": {
      "text/plain": [
       "Index(['age', 'job', 'marital', 'education', 'default', 'balance', 'housing',\n",
       "       'loan', 'contact', 'day', 'month', 'duration', 'campaign', 'pdays',\n",
       "       'previous', 'poutcome', 'y'],\n",
       "      dtype='object')"
      ]
     },
     "execution_count": 7,
     "metadata": {},
     "output_type": "execute_result"
    }
   ],
   "source": [
    "data.columns"
   ]
  },
  {
   "cell_type": "code",
   "execution_count": 8,
   "id": "72f27a6e",
   "metadata": {},
   "outputs": [
    {
     "data": {
      "text/plain": [
       "no     4000\n",
       "yes     521\n",
       "Name: y, dtype: int64"
      ]
     },
     "execution_count": 8,
     "metadata": {},
     "output_type": "execute_result"
    }
   ],
   "source": [
    "data['y'].value_counts()"
   ]
  },
  {
   "cell_type": "code",
   "execution_count": 9,
   "id": "37ed89c8",
   "metadata": {},
   "outputs": [
    {
     "data": {
      "image/png": "[encoded data removed]",
      "text/plain": [
       "<Figure size 1080x576 with 2 Axes>"
      ]
     },
     "metadata": {
      "needs_background": "light"
     },
     "output_type": "display_data"
    }
   ],
   "source": [
    "plt.figure(figsize = (15,8))\n",
    "sns.heatmap(data.corr(),cmap = \"BuPu\",annot = True)\n",
    "plt.show()"
   ]
  },
  {
   "cell_type": "markdown",
   "id": "84fa9172",
   "metadata": {},
   "source": [
    "<h5>Mapping</h5>\n",
    "Mapping the data to convert parameters that are string to numeric so that they can be used in the classification models "
   ]
  },
  {
   "cell_type": "code",
   "execution_count": 10,
   "id": "70e34007",
   "metadata": {},
   "outputs": [],
   "source": [
    "mapping = {}\n",
    "cols = data.drop('y', axis=1).columns\n",
    "for col in cols:\n",
    "  mapping[col] = {name: i for i, name in enumerate(data[col].unique())}\n",
    "def mapping_func(row):\n",
    "  return pd.Series([mapping[col][row[col]] for col in cols])"
   ]
  },
  {
   "cell_type": "code",
   "execution_count": 11,
   "id": "a5cd1041",
   "metadata": {},
   "outputs": [],
   "source": [
    "X = data.apply(mapping_func, axis=1)"
   ]
  },
  {
   "cell_type": "code",
   "execution_count": 12,
   "id": "06b44134",
   "metadata": {},
   "outputs": [],
   "source": [
    "y = data['y']"
   ]
  },
  {
   "cell_type": "markdown",
   "id": "09304311",
   "metadata": {},
   "source": [
    "<br>\n",
    "Dividing data into Test and Train data"
   ]
  },
  {
   "cell_type": "code",
   "execution_count": 13,
   "id": "a1ad27da",
   "metadata": {},
   "outputs": [],
   "source": [
    "from sklearn.model_selection import train_test_split\n",
    "X_train,X_test, y_train,y_test=train_test_split(X,y,random_state=1,test_size = 0.3) "
   ]
  },
  {
   "cell_type": "code",
   "execution_count": 14,
   "id": "1d0231b7",
   "metadata": {},
   "outputs": [
    {
     "name": "stdout",
     "output_type": "stream",
     "text": [
      "x_train :  3164\n",
      "x_test :  1357\n",
      "y_train :  3164\n",
      "y_test :  1357\n"
     ]
    }
   ],
   "source": [
    "print('x_train : ',len(X_train))\n",
    "print('x_test : ',len(X_test))\n",
    "print('y_train : ',len(y_train))\n",
    "print('y_test : ',len(y_test))"
   ]
  },
  {
   "cell_type": "markdown",
   "id": "6c3c4a42",
   "metadata": {},
   "source": [
    "<h5>Model 1 : Random Forest Classifier"
   ]
  },
  {
   "cell_type": "code",
   "execution_count": 15,
   "id": "59ded51b",
   "metadata": {},
   "outputs": [
    {
     "data": {
      "text/plain": [
       "RandomForestClassifier()"
      ]
     },
     "execution_count": 15,
     "metadata": {},
     "output_type": "execute_result"
    }
   ],
   "source": [
    "from sklearn.ensemble import RandomForestClassifier\n",
    "rfc=RandomForestClassifier()\n",
    "rfc.fit(X_train,y_train)"
   ]
  },
  {
   "cell_type": "code",
   "execution_count": 16,
   "id": "404aa971",
   "metadata": {},
   "outputs": [
    {
     "name": "stdout",
     "output_type": "stream",
     "text": [
      "Classification Report:\n",
      "               precision    recall  f1-score   support\n",
      "\n",
      "          no       0.88      0.99      0.93      1182\n",
      "         yes       0.57      0.13      0.21       175\n",
      "\n",
      "    accuracy                           0.88      1357\n",
      "   macro avg       0.73      0.56      0.57      1357\n",
      "weighted avg       0.84      0.88      0.84      1357\n",
      "\n",
      "Confusion Matrix:\n",
      " [[1165   17]\n",
      " [ 152   23]]\n",
      "Training Score:\n",
      " 100.0\n"
     ]
    },
    {
     "data": {
      "text/plain": [
       "0.8754605747973471"
      ]
     },
     "execution_count": 16,
     "metadata": {},
     "output_type": "execute_result"
    }
   ],
   "source": [
    "y_pred=rfc.predict(X_test)\n",
    "from sklearn.metrics import accuracy_score,classification_report,confusion_matrix\n",
    "from sklearn.metrics import r2_score\n",
    "from sklearn.metrics import mean_squared_error\n",
    "print(\"Classification Report:\\n\",classification_report(y_test,y_pred))\n",
    "print(\"Confusion Matrix:\\n\",confusion_matrix(y_test,y_pred))\n",
    "print(\"Training Score:\\n\",rfc.score(X_train,y_train)*100)\n",
    "accuracy_score(y_test,y_pred)"
   ]
  },
  {
   "cell_type": "markdown",
   "id": "a5680c63",
   "metadata": {},
   "source": [
    "<h5>Model 2 : K Neighbors Classifier"
   ]
  },
  {
   "cell_type": "code",
   "execution_count": 17,
   "id": "c9fd6e7e",
   "metadata": {},
   "outputs": [
    {
     "data": {
      "text/plain": [
       "KNeighborsClassifier(n_neighbors=9)"
      ]
     },
     "execution_count": 17,
     "metadata": {},
     "output_type": "execute_result"
    }
   ],
   "source": [
    "from sklearn.neighbors import KNeighborsClassifier\n",
    "from sklearn.metrics import accuracy_score,classification_report,confusion_matrix\n",
    "from sklearn.model_selection import cross_val_score\n",
    "classifier=KNeighborsClassifier(n_neighbors=9,metric='minkowski',p=2)\n",
    "classifier.fit(X_train,y_train)"
   ]
  },
  {
   "cell_type": "code",
   "execution_count": 18,
   "id": "53ca63b6",
   "metadata": {},
   "outputs": [
    {
     "name": "stdout",
     "output_type": "stream",
     "text": [
      "Classification Report:\n",
      "               precision    recall  f1-score   support\n",
      "\n",
      "          no       0.87      0.99      0.93      1182\n",
      "         yes       0.29      0.04      0.07       175\n",
      "\n",
      "    accuracy                           0.86      1357\n",
      "   macro avg       0.58      0.51      0.50      1357\n",
      "weighted avg       0.80      0.86      0.82      1357\n",
      "\n",
      "Confusion Matrix:\n",
      " [[1165   17]\n",
      " [ 168    7]]\n",
      "Training Score:\n",
      " 100.0\n"
     ]
    },
    {
     "data": {
      "text/plain": [
       "0.8636698599852616"
      ]
     },
     "execution_count": 18,
     "metadata": {},
     "output_type": "execute_result"
    }
   ],
   "source": [
    "y_pred=classifier.predict(X_test)\n",
    "print(\"Classification Report:\\n\",classification_report(y_test,y_pred))\n",
    "print(\"Confusion Matrix:\\n\",confusion_matrix(y_test,y_pred))\n",
    "print(\"Training Score:\\n\",rfc.score(X_train,y_train)*100)\n",
    "accuracy_score(y_test,y_pred)"
   ]
  },
  {
   "cell_type": "markdown",
   "id": "6187f9c1",
   "metadata": {},
   "source": [
    "<h5>Model 3 : Logistic Regression"
   ]
  },
  {
   "cell_type": "code",
   "execution_count": 19,
   "id": "2394de23",
   "metadata": {},
   "outputs": [],
   "source": [
    "from sklearn.linear_model import LogisticRegression\n",
    "from sklearn.model_selection import train_test_split\n",
    "from sklearn.metrics import accuracy_score, confusion_matrix,roc_curve"
   ]
  },
  {
   "cell_type": "code",
   "execution_count": 20,
   "id": "dd344022",
   "metadata": {},
   "outputs": [
    {
     "data": {
      "text/plain": [
       "LogisticRegression()"
      ]
     },
     "execution_count": 20,
     "metadata": {},
     "output_type": "execute_result"
    }
   ],
   "source": [
    "model=LogisticRegression()\n",
    "model.fit(X_train,y_train)"
   ]
  },
  {
   "cell_type": "code",
   "execution_count": 21,
   "id": "6aeb7153",
   "metadata": {},
   "outputs": [
    {
     "name": "stdout",
     "output_type": "stream",
     "text": [
      "The Predicted Values on the Test Data ['no' 'no' 'no' ... 'no' 'no' 'no']\n"
     ]
    }
   ],
   "source": [
    "predict=model.predict(X_test)\n",
    "print(\"The Predicted Values on the Test Data\",predict)"
   ]
  },
  {
   "cell_type": "code",
   "execution_count": 22,
   "id": "4f1e64a3",
   "metadata": {},
   "outputs": [
    {
     "name": "stdout",
     "output_type": "stream",
     "text": [
      "Classification Report:\n",
      "               precision    recall  f1-score   support\n",
      "\n",
      "          no       0.88      0.99      0.93      1182\n",
      "         yes       0.36      0.05      0.09       175\n",
      "\n",
      "    accuracy                           0.87      1357\n",
      "   macro avg       0.62      0.52      0.51      1357\n",
      "weighted avg       0.81      0.87      0.82      1357\n",
      "\n",
      "Confusion Matrix:\n",
      " [[1166   16]\n",
      " [ 166    9]]\n",
      "Training Score:\n",
      " 100.0\n"
     ]
    },
    {
     "data": {
      "text/plain": [
       "0.8658806190125277"
      ]
     },
     "execution_count": 22,
     "metadata": {},
     "output_type": "execute_result"
    }
   ],
   "source": [
    "print(\"Classification Report:\\n\",classification_report(y_test,predict))\n",
    "print(\"Confusion Matrix:\\n\",confusion_matrix(y_test,predict))\n",
    "print(\"Training Score:\\n\",rfc.score(X_train,y_train)*100)\n",
    "accuracy_score(y_test,predict)"
   ]
  },
  {
   "cell_type": "markdown",
   "id": "fd54512a",
   "metadata": {},
   "source": [
    "<h5>Model 4 : Decision Tree Classifier"
   ]
  },
  {
   "cell_type": "code",
   "execution_count": 23,
   "id": "866f9e98",
   "metadata": {},
   "outputs": [
    {
     "data": {
      "text/plain": [
       "DecisionTreeClassifier(random_state=20)"
      ]
     },
     "execution_count": 23,
     "metadata": {},
     "output_type": "execute_result"
    }
   ],
   "source": [
    "from sklearn.tree import DecisionTreeClassifier\n",
    "from sklearn.metrics import confusion_matrix, accuracy_score\n",
    "classifier=DecisionTreeClassifier(random_state=20)\n",
    "classifier.fit(X_train,y_train)"
   ]
  },
  {
   "cell_type": "code",
   "execution_count": 24,
   "id": "1bd57129",
   "metadata": {},
   "outputs": [],
   "source": [
    "y_pred=classifier.predict(X_test)"
   ]
  },
  {
   "cell_type": "code",
   "execution_count": 25,
   "id": "d2b97069",
   "metadata": {},
   "outputs": [
    {
     "name": "stdout",
     "output_type": "stream",
     "text": [
      "Confusion Matrix:\n",
      " [[1088   94]\n",
      " [ 120   55]]\n"
     ]
    }
   ],
   "source": [
    "confusion_matrix=confusion_matrix(y_test,y_pred)\n",
    "print(\"Confusion Matrix:\\n\",confusion_matrix)"
   ]
  },
  {
   "cell_type": "code",
   "execution_count": 26,
   "id": "eba1147f",
   "metadata": {},
   "outputs": [
    {
     "name": "stdout",
     "output_type": "stream",
     "text": [
      "Classification Report:\n",
      "               precision    recall  f1-score   support\n",
      "\n",
      "          no       0.90      0.92      0.91      1182\n",
      "         yes       0.37      0.31      0.34       175\n",
      "\n",
      "    accuracy                           0.84      1357\n",
      "   macro avg       0.63      0.62      0.62      1357\n",
      "weighted avg       0.83      0.84      0.84      1357\n",
      "\n",
      "Accuracy Score:\n",
      " 0.8422991893883567\n"
     ]
    }
   ],
   "source": [
    "accuracy_score=accuracy_score(y_test,y_pred)\n",
    "print(\"Classification Report:\\n\",classification_report(y_test,y_pred))\n",
    "print(\"Accuracy Score:\\n\",accuracy_score)"
   ]
  },
  {
   "cell_type": "markdown",
   "id": "01de5894",
   "metadata": {},
   "source": [
    "As we can see, almost all the models have similar accuracy.\n",
    "Since Random Forest Classifier is the most accurate, I will be using it."
   ]
  },
  {
   "cell_type": "markdown",
   "id": "93bc6aea",
   "metadata": {},
   "source": [
    "Feature Importance in the Random Forest Classifier Model"
   ]
  },
  {
   "cell_type": "code",
   "execution_count": 28,
   "id": "039e4c1a",
   "metadata": {},
   "outputs": [
    {
     "name": "stdout",
     "output_type": "stream",
     "text": [
      "Feature: 0, Score: 0.11104\n",
      "Feature: 1, Score: 0.06766\n",
      "Feature: 2, Score: 0.03082\n",
      "Feature: 3, Score: 0.03226\n",
      "Feature: 4, Score: 0.00334\n",
      "Feature: 5, Score: 0.12269\n",
      "Feature: 6, Score: 0.02185\n",
      "Feature: 7, Score: 0.00955\n",
      "Feature: 8, Score: 0.02109\n",
      "Feature: 9, Score: 0.10175\n",
      "Feature: 10, Score: 0.09119\n",
      "Feature: 11, Score: 0.19536\n",
      "Feature: 12, Score: 0.04678\n",
      "Feature: 13, Score: 0.04762\n",
      "Feature: 14, Score: 0.02471\n",
      "Feature: 15, Score: 0.07227\n"
     ]
    },
    {
     "data": {
      "image/png": "[encoded data removed]",
      "text/plain": [
       "<Figure size 432x288 with 1 Axes>"
      ]
     },
     "metadata": {
      "needs_background": "light"
     },
     "output_type": "display_data"
    }
   ],
   "source": [
    "importance = rfc.feature_importances_\n",
    "for i,v in enumerate(importance):\n",
    " print('Feature: %0d, Score: %.5f' % (i,v))\n",
    "plt.bar([x for x in range(len(importance))], importance)\n",
    "plt.show()"
   ]
  },
  {
   "cell_type": "markdown",
   "id": "4b8aff1b",
   "metadata": {},
   "source": [
    "As we can see the 11th feature is the most important feature which is the Last Contact Duration as said in the problem itself"
   ]
  },
  {
   "cell_type": "markdown",
   "id": "47688d6a",
   "metadata": {},
   "source": [
    "<br>\n",
    "<h4>Hyperparameter Tuning"
   ]
  },
  {
   "cell_type": "code",
   "execution_count": 29,
   "id": "a90ceeb6",
   "metadata": {},
   "outputs": [],
   "source": [
    "param_grid = {\n",
    "    'n_estimators': [25, 50, 100, 150],\n",
    "    'max_features': ['sqrt', 'log2', None],\n",
    "    'max_depth': [3, 6, 9, 12],\n",
    "    'max_leaf_nodes': [3, 6, 9, 12],\n",
    "}"
   ]
  },
  {
   "cell_type": "markdown",
   "id": "af014136",
   "metadata": {},
   "source": [
    "I will be using GridSearchCV to tune the model further"
   ]
  },
  {
   "cell_type": "code",
   "execution_count": 30,
   "id": "af820387",
   "metadata": {},
   "outputs": [
    {
     "name": "stdout",
     "output_type": "stream",
     "text": [
      "{'max_depth': 6, 'max_features': 'sqrt', 'max_leaf_nodes': 9, 'n_estimators': 100}\n"
     ]
    }
   ],
   "source": [
    "from sklearn.model_selection import GridSearchCV\n",
    "grid_search = GridSearchCV(RandomForestClassifier(),\n",
    "                           param_grid=param_grid)\n",
    "grid_search.fit(X_train, y_train)\n",
    "print(grid_search.best_params_)"
   ]
  },
  {
   "cell_type": "code",
   "execution_count": 36,
   "id": "499647c4",
   "metadata": {},
   "outputs": [
    {
     "name": "stdout",
     "output_type": "stream",
     "text": [
      "              precision    recall  f1-score   support\n",
      "\n",
      "          no       0.89      0.98      0.93      1182\n",
      "         yes       0.57      0.14      0.22       175\n",
      "\n",
      "    accuracy                           0.88      1357\n",
      "   macro avg       0.73      0.56      0.58      1357\n",
      "weighted avg       0.84      0.88      0.84      1357\n",
      "\n"
     ]
    }
   ],
   "source": [
    "model_grid = RandomForestClassifier(max_depth=6,\n",
    "                                    max_features=None,\n",
    "                                    max_leaf_nodes=9,\n",
    "                                    n_estimators=100)\n",
    "model_grid.fit(X_train, y_train)\n",
    "y_pred = model_grid.predict(X_test)\n",
    "print(classification_report(y_test, y_pred))"
   ]
  },
  {
   "cell_type": "markdown",
   "id": "92b53e38",
   "metadata": {},
   "source": [
    "<h3>Saving the Model</h3>\n",
    "I will be using pickle to save the model"
   ]
  },
  {
   "cell_type": "code",
   "execution_count": 37,
   "id": "78de6232",
   "metadata": {},
   "outputs": [],
   "source": [
    "import pickle \n",
    "file = open('assignmentuniacco.pk1','wb')\n",
    "pickle.dump(model_grid,file)"
   ]
  },
  {
   "cell_type": "code",
   "execution_count": 38,
   "id": "6422a934",
   "metadata": {},
   "outputs": [],
   "source": [
    "#Loading the saved model to check\n",
    "model = open('assignmentuniacco.pk1','rb')\n",
    "forest = pickle.load(model)"
   ]
  },
  {
   "cell_type": "code",
   "execution_count": 39,
   "id": "0cd5da71",
   "metadata": {},
   "outputs": [],
   "source": [
    "y_prediction = forest.predict(X_test)"
   ]
  },
  {
   "cell_type": "code",
   "execution_count": 40,
   "id": "2e303d4d",
   "metadata": {},
   "outputs": [
    {
     "name": "stdout",
     "output_type": "stream",
     "text": [
      "              precision    recall  f1-score   support\n",
      "\n",
      "          no       0.89      0.98      0.93      1182\n",
      "         yes       0.57      0.14      0.22       175\n",
      "\n",
      "    accuracy                           0.88      1357\n",
      "   macro avg       0.73      0.56      0.58      1357\n",
      "weighted avg       0.84      0.88      0.84      1357\n",
      "\n"
     ]
    }
   ],
   "source": [
    "print(classification_report(y_test,y_prediction))"
   ]
  }
 ],
 "metadata": {
  "kernelspec": {
   "display_name": "Python 3",
   "language": "python",
   "name": "python3"
  },
  "language_info": {
   "codemirror_mode": {
    "name": "ipython",
    "version": 3
   },
   "file_extension": ".py",
   "mimetype": "text/x-python",
   "name": "python",
   "nbconvert_exporter": "python",
   "pygments_lexer": "ipython3",
   "version": "3.6.5"
  }
 },
 "nbformat": 4,
 "nbformat_minor": 5
}
